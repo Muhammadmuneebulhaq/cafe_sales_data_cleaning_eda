{
 "cells": [
  {
   "cell_type": "code",
   "execution_count": 1,
   "id": "f48ba4f7",
   "metadata": {
    "_cell_guid": "24795344-f9ce-43f3-b39d-b4e24a84219c",
    "_execution_state": "idle",
    "_uuid": "903a3da4-6c96-481d-b376-8910d52d387b",
    "collapsed": false,
    "execution": {
     "iopub.execute_input": "2025-05-09T18:20:32.403642Z",
     "iopub.status.busy": "2025-05-09T18:20:32.401241Z",
     "iopub.status.idle": "2025-05-09T18:20:33.681880Z",
     "shell.execute_reply": "2025-05-09T18:20:33.680052Z"
    },
    "jupyter": {
     "outputs_hidden": false
    },
    "papermill": {
     "duration": 1.287819,
     "end_time": "2025-05-09T18:20:33.684094",
     "exception": false,
     "start_time": "2025-05-09T18:20:32.396275",
     "status": "completed"
    },
    "tags": []
   },
   "outputs": [
    {
     "name": "stderr",
     "output_type": "stream",
     "text": [
      "── \u001b[1mAttaching core tidyverse packages\u001b[22m ──────────────────────── tidyverse 2.0.0 ──\n",
      "\u001b[32m✔\u001b[39m \u001b[34mdplyr    \u001b[39m 1.1.4     \u001b[32m✔\u001b[39m \u001b[34mreadr    \u001b[39m 2.1.5\n",
      "\u001b[32m✔\u001b[39m \u001b[34mforcats  \u001b[39m 1.0.0     \u001b[32m✔\u001b[39m \u001b[34mstringr  \u001b[39m 1.5.1\n",
      "\u001b[32m✔\u001b[39m \u001b[34mggplot2  \u001b[39m 3.5.1     \u001b[32m✔\u001b[39m \u001b[34mtibble   \u001b[39m 3.2.1\n",
      "\u001b[32m✔\u001b[39m \u001b[34mlubridate\u001b[39m 1.9.3     \u001b[32m✔\u001b[39m \u001b[34mtidyr    \u001b[39m 1.3.1\n",
      "\u001b[32m✔\u001b[39m \u001b[34mpurrr    \u001b[39m 1.0.2     \n"
     ]
    },
    {
     "name": "stderr",
     "output_type": "stream",
     "text": [
      "── \u001b[1mConflicts\u001b[22m ────────────────────────────────────────── tidyverse_conflicts() ──\n",
      "\u001b[31m✖\u001b[39m \u001b[34mdplyr\u001b[39m::\u001b[32mfilter()\u001b[39m masks \u001b[34mstats\u001b[39m::filter()\n",
      "\u001b[31m✖\u001b[39m \u001b[34mdplyr\u001b[39m::\u001b[32mlag()\u001b[39m    masks \u001b[34mstats\u001b[39m::lag()\n",
      "\u001b[36mℹ\u001b[39m Use the conflicted package (\u001b[3m\u001b[34m<http://conflicted.r-lib.org/>\u001b[39m\u001b[23m) to force all conflicts to become errors\n"
     ]
    },
    {
     "data": {
      "text/html": [
       "'cafe-sales-dirty-data-for-cleaning-training'"
      ],
      "text/latex": [
       "'cafe-sales-dirty-data-for-cleaning-training'"
      ],
      "text/markdown": [
       "'cafe-sales-dirty-data-for-cleaning-training'"
      ],
      "text/plain": [
       "[1] \"cafe-sales-dirty-data-for-cleaning-training\""
      ]
     },
     "metadata": {},
     "output_type": "display_data"
    }
   ],
   "source": [
    "# This R environment comes with many helpful analytics packages installed\n",
    "# It is defined by the kaggle/rstats Docker image: https://github.com/kaggle/docker-rstats\n",
    "# For example, here's a helpful package to load\n",
    "\n",
    "library(tidyverse) # metapackage of all tidyverse packages\n",
    "\n",
    "# Input data files are available in the read-only \"../input/\" directory\n",
    "# For example, running this (by clicking run or pressing Shift+Enter) will list all files under the input directory\n",
    "\n",
    "list.files(path = \"../input\")\n",
    "\n",
    "# You can write up to 20GB to the current directory (/kaggle/working/) that gets preserved as output when you create a version using \"Save & Run All\" \n",
    "# You can also write temporary files to /kaggle/temp/, but they won't be saved outside of the current session"
   ]
  },
  {
   "cell_type": "code",
   "execution_count": 2,
   "id": "0ad6d31d",
   "metadata": {
    "_cell_guid": "73519092-3915-4e05-8f6f-fb54a0894e37",
    "_uuid": "fccddca6-3157-4c42-a11a-cba661328a2d",
    "collapsed": false,
    "execution": {
     "iopub.execute_input": "2025-05-09T18:20:33.722068Z",
     "iopub.status.busy": "2025-05-09T18:20:33.689934Z",
     "iopub.status.idle": "2025-05-09T18:20:33.770125Z",
     "shell.execute_reply": "2025-05-09T18:20:33.768393Z"
    },
    "jupyter": {
     "outputs_hidden": false
    },
    "papermill": {
     "duration": 0.086292,
     "end_time": "2025-05-09T18:20:33.772555",
     "exception": false,
     "start_time": "2025-05-09T18:20:33.686263",
     "status": "completed"
    },
    "tags": []
   },
   "outputs": [],
   "source": [
    "cafe_sales <- read.csv(\"/kaggle/input/cafe-sales-dirty-data-for-cleaning-training/dirty_cafe_sales.csv\")"
   ]
  },
  {
   "cell_type": "code",
   "execution_count": 3,
   "id": "a063a6fe",
   "metadata": {
    "_cell_guid": "c5072196-a315-4587-b453-84418f43d7e7",
    "_uuid": "c22ba383-2fac-4c73-8878-158c837ed4e3",
    "collapsed": false,
    "execution": {
     "iopub.execute_input": "2025-05-09T18:20:33.779434Z",
     "iopub.status.busy": "2025-05-09T18:20:33.778047Z",
     "iopub.status.idle": "2025-05-09T18:20:33.807819Z",
     "shell.execute_reply": "2025-05-09T18:20:33.806153Z"
    },
    "jupyter": {
     "outputs_hidden": false
    },
    "papermill": {
     "duration": 0.035622,
     "end_time": "2025-05-09T18:20:33.810246",
     "exception": false,
     "start_time": "2025-05-09T18:20:33.774624",
     "status": "completed"
    },
    "tags": []
   },
   "outputs": [
    {
     "data": {
      "text/html": [
       "<table class=\"dataframe\">\n",
       "<caption>A data.frame: 6 × 8</caption>\n",
       "<thead>\n",
       "\t<tr><th></th><th scope=col>Transaction.ID</th><th scope=col>Item</th><th scope=col>Quantity</th><th scope=col>Price.Per.Unit</th><th scope=col>Total.Spent</th><th scope=col>Payment.Method</th><th scope=col>Location</th><th scope=col>Transaction.Date</th></tr>\n",
       "\t<tr><th></th><th scope=col>&lt;chr&gt;</th><th scope=col>&lt;chr&gt;</th><th scope=col>&lt;chr&gt;</th><th scope=col>&lt;chr&gt;</th><th scope=col>&lt;chr&gt;</th><th scope=col>&lt;chr&gt;</th><th scope=col>&lt;chr&gt;</th><th scope=col>&lt;chr&gt;</th></tr>\n",
       "</thead>\n",
       "<tbody>\n",
       "\t<tr><th scope=row>1</th><td>TXN_1961373</td><td>Coffee  </td><td>2</td><td>2.0</td><td>4.0  </td><td>Credit Card   </td><td>Takeaway</td><td>2023-09-08</td></tr>\n",
       "\t<tr><th scope=row>2</th><td>TXN_4977031</td><td>Cake    </td><td>4</td><td>3.0</td><td>12.0 </td><td>Cash          </td><td>In-store</td><td>2023-05-16</td></tr>\n",
       "\t<tr><th scope=row>3</th><td>TXN_4271903</td><td>Cookie  </td><td>4</td><td>1.0</td><td>ERROR</td><td>Credit Card   </td><td>In-store</td><td>2023-07-19</td></tr>\n",
       "\t<tr><th scope=row>4</th><td>TXN_7034554</td><td>Salad   </td><td>2</td><td>5.0</td><td>10.0 </td><td>UNKNOWN       </td><td>UNKNOWN </td><td>2023-04-27</td></tr>\n",
       "\t<tr><th scope=row>5</th><td>TXN_3160411</td><td>Coffee  </td><td>2</td><td>2.0</td><td>4.0  </td><td>Digital Wallet</td><td>In-store</td><td>2023-06-11</td></tr>\n",
       "\t<tr><th scope=row>6</th><td>TXN_2602893</td><td>Smoothie</td><td>5</td><td>4.0</td><td>20.0 </td><td>Credit Card   </td><td>        </td><td>2023-03-31</td></tr>\n",
       "</tbody>\n",
       "</table>\n"
      ],
      "text/latex": [
       "A data.frame: 6 × 8\n",
       "\\begin{tabular}{r|llllllll}\n",
       "  & Transaction.ID & Item & Quantity & Price.Per.Unit & Total.Spent & Payment.Method & Location & Transaction.Date\\\\\n",
       "  & <chr> & <chr> & <chr> & <chr> & <chr> & <chr> & <chr> & <chr>\\\\\n",
       "\\hline\n",
       "\t1 & TXN\\_1961373 & Coffee   & 2 & 2.0 & 4.0   & Credit Card    & Takeaway & 2023-09-08\\\\\n",
       "\t2 & TXN\\_4977031 & Cake     & 4 & 3.0 & 12.0  & Cash           & In-store & 2023-05-16\\\\\n",
       "\t3 & TXN\\_4271903 & Cookie   & 4 & 1.0 & ERROR & Credit Card    & In-store & 2023-07-19\\\\\n",
       "\t4 & TXN\\_7034554 & Salad    & 2 & 5.0 & 10.0  & UNKNOWN        & UNKNOWN  & 2023-04-27\\\\\n",
       "\t5 & TXN\\_3160411 & Coffee   & 2 & 2.0 & 4.0   & Digital Wallet & In-store & 2023-06-11\\\\\n",
       "\t6 & TXN\\_2602893 & Smoothie & 5 & 4.0 & 20.0  & Credit Card    &          & 2023-03-31\\\\\n",
       "\\end{tabular}\n"
      ],
      "text/markdown": [
       "\n",
       "A data.frame: 6 × 8\n",
       "\n",
       "| <!--/--> | Transaction.ID &lt;chr&gt; | Item &lt;chr&gt; | Quantity &lt;chr&gt; | Price.Per.Unit &lt;chr&gt; | Total.Spent &lt;chr&gt; | Payment.Method &lt;chr&gt; | Location &lt;chr&gt; | Transaction.Date &lt;chr&gt; |\n",
       "|---|---|---|---|---|---|---|---|---|\n",
       "| 1 | TXN_1961373 | Coffee   | 2 | 2.0 | 4.0   | Credit Card    | Takeaway | 2023-09-08 |\n",
       "| 2 | TXN_4977031 | Cake     | 4 | 3.0 | 12.0  | Cash           | In-store | 2023-05-16 |\n",
       "| 3 | TXN_4271903 | Cookie   | 4 | 1.0 | ERROR | Credit Card    | In-store | 2023-07-19 |\n",
       "| 4 | TXN_7034554 | Salad    | 2 | 5.0 | 10.0  | UNKNOWN        | UNKNOWN  | 2023-04-27 |\n",
       "| 5 | TXN_3160411 | Coffee   | 2 | 2.0 | 4.0   | Digital Wallet | In-store | 2023-06-11 |\n",
       "| 6 | TXN_2602893 | Smoothie | 5 | 4.0 | 20.0  | Credit Card    | <!----> | 2023-03-31 |\n",
       "\n"
      ],
      "text/plain": [
       "  Transaction.ID Item     Quantity Price.Per.Unit Total.Spent Payment.Method\n",
       "1 TXN_1961373    Coffee   2        2.0            4.0         Credit Card   \n",
       "2 TXN_4977031    Cake     4        3.0            12.0        Cash          \n",
       "3 TXN_4271903    Cookie   4        1.0            ERROR       Credit Card   \n",
       "4 TXN_7034554    Salad    2        5.0            10.0        UNKNOWN       \n",
       "5 TXN_3160411    Coffee   2        2.0            4.0         Digital Wallet\n",
       "6 TXN_2602893    Smoothie 5        4.0            20.0        Credit Card   \n",
       "  Location Transaction.Date\n",
       "1 Takeaway 2023-09-08      \n",
       "2 In-store 2023-05-16      \n",
       "3 In-store 2023-07-19      \n",
       "4 UNKNOWN  2023-04-27      \n",
       "5 In-store 2023-06-11      \n",
       "6          2023-03-31      "
      ]
     },
     "metadata": {},
     "output_type": "display_data"
    }
   ],
   "source": [
    "head(cafe_sales)"
   ]
  },
  {
   "cell_type": "code",
   "execution_count": null,
   "id": "5bd76453",
   "metadata": {
    "papermill": {
     "duration": 0.002108,
     "end_time": "2025-05-09T18:20:33.814562",
     "exception": false,
     "start_time": "2025-05-09T18:20:33.812454",
     "status": "completed"
    },
    "tags": []
   },
   "outputs": [],
   "source": []
  }
 ],
 "metadata": {
  "kaggle": {
   "accelerator": "none",
   "dataSources": [
    {
     "datasetId": 6501209,
     "sourceId": 10500284,
     "sourceType": "datasetVersion"
    }
   ],
   "dockerImageVersionId": 30749,
   "isGpuEnabled": false,
   "isInternetEnabled": false,
   "language": "r",
   "sourceType": "notebook"
  },
  "kernelspec": {
   "display_name": "R",
   "language": "R",
   "name": "ir"
  },
  "language_info": {
   "codemirror_mode": "r",
   "file_extension": ".r",
   "mimetype": "text/x-r-source",
   "name": "R",
   "pygments_lexer": "r",
   "version": "4.4.0"
  },
  "papermill": {
   "default_parameters": {},
   "duration": 4.675941,
   "end_time": "2025-05-09T18:20:33.937096",
   "environment_variables": {},
   "exception": null,
   "input_path": "__notebook__.ipynb",
   "output_path": "__notebook__.ipynb",
   "parameters": {},
   "start_time": "2025-05-09T18:20:29.261155",
   "version": "2.6.0"
  }
 },
 "nbformat": 4,
 "nbformat_minor": 5
}
